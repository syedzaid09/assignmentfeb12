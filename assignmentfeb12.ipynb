{
 "cells": [
  {
   "cell_type": "markdown",
   "id": "5915692a-8963-4128-8ece-88616f7e21c9",
   "metadata": {},
   "source": [
    "Qus1. What is an Exception in python? Write the difference between Exceptions and Syntax errors."
   ]
  },
  {
   "cell_type": "markdown",
   "id": "d6cf1051-ad53-412a-877c-79cfc56b7c9d",
   "metadata": {},
   "source": [
    "Exception are errors that occurs at runtime.\n",
    "if our program encounters an abnormal situation during it's execution it raises an exception.\n",
    "for example,the statement \n",
    "   a=10/0\n",
    "will generate an exception because python has no way to solve division by 0\n",
    "\n",
    "syntax errors:\n",
    "When the proper syntax of the language is not followed then a syntax error is thrown.\n",
    "As the name suggests this error is caused by the wrong syntax in the code. It leads to the termination of the program.\n",
    "\n",
    "exception :\n",
    "When in the runtime an error that occurs after passing the syntax test is called exception or logical type. For example, when we divide any number by zero then the ZeroDivisionError exception is raised, or when we import a module that does not exist then ImportError is raised.\n"
   ]
  },
  {
   "cell_type": "markdown",
   "id": "4f6aff54-50d6-4749-a53f-6426b0740ef9",
   "metadata": {},
   "source": [
    "Qus2.What happens when an exception is not handled? Explain with an example."
   ]
  },
  {
   "cell_type": "markdown",
   "id": "32a402f4-8845-4aa7-82e2-301e098275b4",
   "metadata": {},
   "source": [
    "Python has many built-in exceptions which forces your program to output an error when something in it goes wrong. When these exceptions occur, it causes the current process to stop and passes it to the calling process until it is handled. If not handled, our program will crash.\n"
   ]
  },
  {
   "cell_type": "code",
   "execution_count": 3,
   "id": "b6e68f8a-104e-4ae4-9feb-d9bb786eecc0",
   "metadata": {},
   "outputs": [
    {
     "name": "stdout",
     "output_type": "stream",
     "text": [
      "this is my except block [Errno 2] No such file or directory: 'test1.txt'\n"
     ]
    }
   ],
   "source": [
    "try:\n",
    "    f=open(\"test1.txt\",\"r\")\n",
    "    f.write(\"write into my file\")\n",
    "except Exception as e:\n",
    "    print(\"this is my except block\",e)\n",
    "else:\n",
    "    f.close()\n",
    "    print(\"this will be executed once your try will execute without error\")"
   ]
  },
  {
   "cell_type": "markdown",
   "id": "7560d39f-a27e-4787-93cd-50f91f84d7b4",
   "metadata": {},
   "source": [
    "Qus3.Which python statements are used to catch and handle exceptions?Explain with an example. "
   ]
  },
  {
   "cell_type": "markdown",
   "id": "f87e4c87-5cf9-4824-87d2-a4fdcfba943f",
   "metadata": {},
   "source": [
    "Try and except statements are used to catch and handle exceptions in Python. Statements that can raise exceptions are kept inside the try clause and the statements that handle the exception are written inside except clause."
   ]
  },
  {
   "cell_type": "code",
   "execution_count": 6,
   "id": "424890d4-cfa0-49bd-88a4-c2501ce8f9e9",
   "metadata": {},
   "outputs": [
    {
     "name": "stdout",
     "output_type": "stream",
     "text": [
      "this will be executed once your try will execute without error\n"
     ]
    }
   ],
   "source": [
    "#example\n",
    "try:\n",
    "    f=open(\"test.txt\",\"w\")\n",
    "    f.write(\"write into my file\")\n",
    "except Exception as e:\n",
    "    print(\"this is my except block\",e)\n",
    "else:\n",
    "    f.close()\n",
    "    print(\"this will be executed once your try will execute without error\")"
   ]
  },
  {
   "cell_type": "markdown",
   "id": "46fcf168-b903-49b0-a12b-206719d897b5",
   "metadata": {},
   "source": [
    "Qus4.Explain with an example:\n",
    "a.try and else\n",
    "b.finally\n",
    "c.raise"
   ]
  },
  {
   "cell_type": "markdown",
   "id": "4f4acb66-64cb-429b-ac66-4b0c5bb75b4c",
   "metadata": {},
   "source": [
    "a.try and else\n",
    "\n",
    "try:This block will test the excepted error to occur\n",
    "else:If there is no exception then this block will be executed"
   ]
  },
  {
   "cell_type": "code",
   "execution_count": 7,
   "id": "6ffa0a34-fd6f-4880-8d9c-ed5fcf7cf27d",
   "metadata": {},
   "outputs": [
    {
     "name": "stdout",
     "output_type": "stream",
     "text": [
      "this will be executed once your try will execute without error\n"
     ]
    }
   ],
   "source": [
    "#example of try and else\n",
    "try:\n",
    "    f=open(\"test.txt\",\"w\")\n",
    "    f.write(\"writtrye into my file\")\n",
    "except Exception as e:\n",
    "    print(\"this is my except block\",e)\n",
    "else:\n",
    "    f.close()\n",
    "    print(\"this will be executed once your try will execute without error\")"
   ]
  },
  {
   "cell_type": "markdown",
   "id": "10653644-abd2-42d0-9f09-bb433ef35808",
   "metadata": {},
   "source": [
    "b.finally:\n",
    "Python provides a keyword finally, which is always executed after try and except blocks. The finally block always executes after normal termination of try block or after try block terminates due to some exception. Even if you return in the except block still the finally block will execute"
   ]
  },
  {
   "cell_type": "code",
   "execution_count": 11,
   "id": "0353f618-644d-4654-a60f-2b48b7420ff6",
   "metadata": {},
   "outputs": [
    {
     "name": "stdout",
     "output_type": "stream",
     "text": [
      "Something went wrong\n",
      "The try...except block is finished\n"
     ]
    }
   ],
   "source": [
    "#example of finally\n",
    "try:\n",
    "  x > 3\n",
    "except:\n",
    "  print(\"Something went wrong\")\n",
    "else:\n",
    "  print(\"Nothing went wrong\")\n",
    "finally:\n",
    "  print(\"The try...except block is finished\")"
   ]
  },
  {
   "cell_type": "markdown",
   "id": "4680f544-d694-43bd-ab92-0421e071383e",
   "metadata": {},
   "source": [
    "c.raise:\n",
    "The raise keyword is used to raise an exception.\n",
    " The raise keyword raises an error and stops the control flow of the program. It is used to bring up the current exception in an exception handler so that it can be handled further up the call stack."
   ]
  },
  {
   "cell_type": "code",
   "execution_count": 12,
   "id": "46aeb3d7-ce2a-463f-8b6d-384899653dd6",
   "metadata": {},
   "outputs": [
    {
     "ename": "Exception",
     "evalue": "The number shouldn't be an odd integer",
     "output_type": "error",
     "traceback": [
      "\u001b[0;31m---------------------------------------------------------------------------\u001b[0m",
      "\u001b[0;31mException\u001b[0m                                 Traceback (most recent call last)",
      "Cell \u001b[0;32mIn[12], line 5\u001b[0m\n\u001b[1;32m      2\u001b[0m a \u001b[38;5;241m=\u001b[39m \u001b[38;5;241m5\u001b[39m\n\u001b[1;32m      4\u001b[0m \u001b[38;5;28;01mif\u001b[39;00m a \u001b[38;5;241m%\u001b[39m \u001b[38;5;241m2\u001b[39m \u001b[38;5;241m!=\u001b[39m \u001b[38;5;241m0\u001b[39m:\n\u001b[0;32m----> 5\u001b[0m     \u001b[38;5;28;01mraise\u001b[39;00m \u001b[38;5;167;01mException\u001b[39;00m(\u001b[38;5;124m\"\u001b[39m\u001b[38;5;124mThe number shouldn\u001b[39m\u001b[38;5;124m'\u001b[39m\u001b[38;5;124mt be an odd integer\u001b[39m\u001b[38;5;124m\"\u001b[39m)\n",
      "\u001b[0;31mException\u001b[0m: The number shouldn't be an odd integer"
     ]
    }
   ],
   "source": [
    "#example of raise\n",
    "a = 5\n",
    "  \n",
    "if a % 2 != 0:\n",
    "    raise Exception(\"The number shouldn't be an odd integer\")"
   ]
  },
  {
   "cell_type": "markdown",
   "id": "49a233e1-a733-49f1-9269-2ce30fbb4420",
   "metadata": {},
   "source": [
    "Qus5:What are Custom Exceptions in python? Why do we need Custom Exceptions? Explain with an example."
   ]
  },
  {
   "cell_type": "markdown",
   "id": "3f8c8e74-e0ed-41fd-a728-010a074fa302",
   "metadata": {},
   "source": [
    "Python has many built-in exceptions with it, apart from these built-in list python has the capability to provide custom exceptions to the users. These custom exceptions are named as user-defined exceptions. Here the user-defined exceptions can be built defined by using a class declared for it.\n",
    "\n",
    "we need custom exceptions because Python is known for its readability and user-friendliness; using custom exceptions can help us improve this even more, especially when we are designing our package. If you decide to avoid, at all costs, custom exceptions by using only built-in ones, you risk decreasing Python’s readability."
   ]
  },
  {
   "cell_type": "code",
   "execution_count": 27,
   "id": "f253b826-9241-4b28-b3c2-475287453855",
   "metadata": {},
   "outputs": [],
   "source": [
    "#example\n",
    "class validateage(Exception):\n",
    "    \n",
    "    def __init__(self,msg):\n",
    "        self.msg=msg\n",
    "        "
   ]
  },
  {
   "cell_type": "code",
   "execution_count": 28,
   "id": "abc18b0c-4beb-4237-bfc0-e769df1132ba",
   "metadata": {},
   "outputs": [],
   "source": [
    "def validaetage(age):\n",
    "        if age<0:\n",
    "            raise validateage(\"entered age is negative\")\n",
    "        elif age>200:\n",
    "            raise validateage(\"entered age is very very high\")\n",
    "        else:\n",
    "            print(\"age is valid\")"
   ]
  },
  {
   "cell_type": "code",
   "execution_count": 29,
   "id": "c8119381-21d1-4e54-b023-46d932ebb9ee",
   "metadata": {},
   "outputs": [
    {
     "name": "stdin",
     "output_type": "stream",
     "text": [
      "enter your age 34\n"
     ]
    },
    {
     "name": "stdout",
     "output_type": "stream",
     "text": [
      "age is valid\n"
     ]
    }
   ],
   "source": [
    "try:\n",
    "    age=int(input(\"enter your age\"))\n",
    "    validaetage(age)\n",
    "except validateage as e:\n",
    "    print(e)"
   ]
  },
  {
   "cell_type": "markdown",
   "id": "912bbf01-a239-40da-8da3-2bd787113a70",
   "metadata": {},
   "source": [
    "Qus6.Create a custom exception class.use this class to handle an exception."
   ]
  },
  {
   "cell_type": "code",
   "execution_count": 30,
   "id": "b282046a-7875-40fd-9c0e-bfee1a0e8c55",
   "metadata": {},
   "outputs": [
    {
     "name": "stdin",
     "output_type": "stream",
     "text": [
      "enter salary amount: 4000\n"
     ]
    },
    {
     "ename": "salarynotinrangeerror",
     "evalue": "salary is not in (5000,15000) range",
     "output_type": "error",
     "traceback": [
      "\u001b[0;31m---------------------------------------------------------------------------\u001b[0m",
      "\u001b[0;31msalarynotinrangeerror\u001b[0m                     Traceback (most recent call last)",
      "Cell \u001b[0;32mIn[30], line 8\u001b[0m\n\u001b[1;32m      6\u001b[0m salary\u001b[38;5;241m=\u001b[39m\u001b[38;5;28mint\u001b[39m(\u001b[38;5;28minput\u001b[39m(\u001b[38;5;124m\"\u001b[39m\u001b[38;5;124menter salary amount:\u001b[39m\u001b[38;5;124m\"\u001b[39m))\n\u001b[1;32m      7\u001b[0m \u001b[38;5;28;01mif\u001b[39;00m \u001b[38;5;129;01mnot\u001b[39;00m \u001b[38;5;241m5000\u001b[39m\u001b[38;5;241m<\u001b[39msalary\u001b[38;5;241m<\u001b[39m\u001b[38;5;241m15000\u001b[39m:\n\u001b[0;32m----> 8\u001b[0m     \u001b[38;5;28;01mraise\u001b[39;00m salarynotinrangeerror(salary)\n",
      "\u001b[0;31msalarynotinrangeerror\u001b[0m: salary is not in (5000,15000) range"
     ]
    }
   ],
   "source": [
    "class salarynotinrangeerror(Exception):\n",
    "    def __init__(self,salary,message=\"salary is not in (5000,15000) range\"):\n",
    "        self.salary=salary\n",
    "        self.message=message\n",
    "        super().__init__(self.message)\n",
    "salary=int(input(\"enter salary amount:\"))\n",
    "if not 5000<salary<15000:\n",
    "    raise salarynotinrangeerror(salary)"
   ]
  },
  {
   "cell_type": "code",
   "execution_count": null,
   "id": "9a8755a6-f270-4dad-b212-ed95ead42cd9",
   "metadata": {},
   "outputs": [],
   "source": []
  }
 ],
 "metadata": {
  "kernelspec": {
   "display_name": "Python 3 (ipykernel)",
   "language": "python",
   "name": "python3"
  },
  "language_info": {
   "codemirror_mode": {
    "name": "ipython",
    "version": 3
   },
   "file_extension": ".py",
   "mimetype": "text/x-python",
   "name": "python",
   "nbconvert_exporter": "python",
   "pygments_lexer": "ipython3",
   "version": "3.10.8"
  }
 },
 "nbformat": 4,
 "nbformat_minor": 5
}
